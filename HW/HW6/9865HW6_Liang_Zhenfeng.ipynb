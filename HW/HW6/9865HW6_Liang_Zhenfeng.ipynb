{
 "cells": [
  {
   "cell_type": "markdown",
   "metadata": {},
   "source": [
    "# Zhenfeng Liang"
   ]
  },
  {
   "cell_type": "markdown",
   "metadata": {},
   "source": [
    "### Solution 1"
   ]
  },
  {
   "cell_type": "markdown",
   "metadata": {},
   "source": [
    "Take the first derivatives, we have\n",
    "\n",
    "$$\n",
    "\\frac{\\partial\\,v}{\\partial\\,\\rho} = vega(\\sigma_x)\\,\\frac{\\partial\\,\\sigma_x}{\\partial\\,\\rho}\n",
    "$$\n",
    "\n",
    "Then, take the second derivative, we have,\n",
    "\n",
    "\\begin{eqnarray}\n",
    "\\frac{\\partial^2\\,v}{\\partial\\,\\rho^2} &=& \\frac{\\partial\\,vega(\\sigma_x)}{\\partial\\,\\rho}\\frac{\\partial\\,\\sigma_x}{\\partial\\,\\rho} + vega(\\sigma_x)\\,\\frac{\\partial^2\\,\\sigma_x}{\\partial\\,\\rho^2} \\\\\n",
    "&=& vomma(\\sigma_x)(\\frac{\\partial\\,\\sigma_x}{\\partial\\,\\rho})^2 + vega(\\sigma_x)\\,\\frac{\\partial^2\\,\\sigma_x}{\\partial\\,\\rho^2}\n",
    "\\end{eqnarray}\n",
    "\n",
    "Assuming interest rate $r = 0$, we have,\n",
    "\n",
    "\\begin{eqnarray}\n",
    "vega(\\sigma_x) &=& S_x\\phi(d_1)\\sqrt{T} \\\\\n",
    "vomma(\\sigma_x) &=& vega(\\sigma_x)\\,\\frac{d_1\\,d_2}{\\sigma_x} \\\\\n",
    "\\frac{\\partial\\,\\sigma_x}{\\partial\\,\\rho} &=& -\\sigma_1\\sigma_2\\sigma_x^{-1} \\\\\n",
    "\\frac{\\partial^2\\,\\sigma_x}{\\partial\\,\\rho^2} &=& -\\sigma_x^{-1}(\\frac{\\partial\\,\\sigma_x}{\\partial\\,\\rho})^2\n",
    "\\end{eqnarray}\n",
    "\n",
    "where $d_1 = \\frac{ln(\\frac{S_x}{K}) + \\frac12\\,(\\sigma_x\\sqrt{T})^2}{\\sigma_x\\sqrt{T}}$, $d_2 = d_1 - \\sigma_x\\sqrt{T}$ and $\\sigma_x = \\sqrt{\\sigma_1^2 + \\sigma_2^2 - 2\\rho\\sigma_1\\sigma_2}$"
   ]
  },
  {
   "cell_type": "code",
   "execution_count": 1,
   "metadata": {
    "collapsed": false
   },
   "outputs": [],
   "source": [
    "\"\"\"\n",
    "  Copyright: Copyright (C) 2015 Baruch College - FX modeling\n",
    "\n",
    "  Author: Zhenfeng Liang, Zhenfeng.Jose.Liang@gmail.com\n",
    "\n",
    "  Created on: Oct 16, 2015\n",
    "\n",
    "  Description: this is for FX modeling HW6. Plot rho gamma with respect to strike \n",
    "\n",
    "  All Copyrights (C) Reserved\n",
    "\"\"\"\n",
    "\n",
    "%matplotlib inline\n",
    "\n",
    "import scipy as sp\n",
    "from scipy.stats import norm\n",
    "\n",
    "import matplotlib.pyplot as plt\n",
    "import numpy as np\n",
    "\n",
    "def rhoGammaAnalytics(S1, S2, T, sig1, sig2, rho):\n",
    "    \n",
    "    # Cache const\n",
    "    Sx = S1 / S2 \n",
    "    sigx = sp.sqrt(sig1 ** 2 + sig2 ** 2 - 2 * rho * sig1 * sig2)\n",
    "    sigxRootT = sigx * sp.sqrt(T)\n",
    "    SxRootT = Sx * sp.sqrt(T)\n",
    "    sig1sig2 = sig1 * sig2\n",
    "    \n",
    "    def calrhoGamma(K):\n",
    "        d1 = ( sp.log(Sx / K) + 0.5 * (sigxRootT ** 2) ) / sigxRootT\n",
    "        d2 = d1 - sigxRootT\n",
    "        vega = SxRootT * norm.pdf(d1)\n",
    "        vomma = vega * d1 * d2 / sigx\n",
    "        sigxDerRho = - sig1sig2 / sigx\n",
    "        sigxDerRho2 = - sigx ** (-1) * sigxDerRho ** 2\n",
    "        rhoGamma = vomma * (sigxDerRho ** 2) + vega * sigxDerRho2\n",
    "            \n",
    "        return rhoGamma\n",
    "    \n",
    "    K = np.linspace(0.7 * Sx, 1.3 * Sx,num=60)\n",
    "    \n",
    "    rhogamma = [calrhoGamma(k) for k in K]\n",
    "    \n",
    "    plt.plot(K, rhogamma)\n",
    "    \n",
    "    plt.title(\"Cross pair option's rho gamma and strike\")\n",
    "    plt.xlabel(\"strike (K)\")\n",
    "    plt.ylabel(\"rho gamma\")\n",
    "    \n",
    "    plt.show()\n",
    "    \n",
    "    return"
   ]
  },
  {
   "cell_type": "code",
   "execution_count": 2,
   "metadata": {
    "collapsed": false
   },
   "outputs": [
    {
     "data": {
      "image/png": "[encoded data removed]",
      "text/plain": [
       "<matplotlib.figure.Figure at 0x7fc51db0f990>"
      ]
     },
     "metadata": {},
     "output_type": "display_data"
    }
   ],
   "source": [
    "S1 = 1.\n",
    "S2 = 1.\n",
    "T = .5\n",
    "sig1 = sig2 = .1\n",
    "rho = .25\n",
    "rhoGammaAnalytics(S1, S2, T, sig1, sig2, rho)"
   ]
  },
  {
   "cell_type": "markdown",
   "metadata": {},
   "source": [
    "### Comments:\n",
    "\n",
    "1: First of all, it is like a scaled shifed vomma. This is due to our derived formula, which is vomma times a scale, square of first derivative of sigma with respect to rho, plus a negative shift.\n",
    "\n",
    "2: Correlation rho have negative impact to the implied volatility.\n",
    "\n",
    "3: Looking at the graph above, we can see we have negative rho gamma around ATM and positive rho gamma is positive for ITM and OTM. It goes to zero when it is deep ITM and deep OTM. It means, around ATM, the \"negative impact\" of rho to price is increasing while decreasing for OTM and ITM. The \"negative impact\" tends to be constant when it goes to deep ITM or OTM. In a human word, that is because when it is around ATM, when the rho decrease a little bit, it increase a lot of chance that the option will be ITM. When they are deep ITM or OTM, if rho increase which means the cross underlying would increase the chance to stay at the same, so the price would not change a lot. \n",
    "\n",
    "4: Seen from above, the gamma for ITM and OTM are both positive. Since the model fails to incorporate the value from this gamma, so it would under price the ITM and OTM which will lead to underprice the butterfly. So the implied vol smile from this model is lower than the market. We can also see that the high strike gamma is a little bit larger than the low strike gamma. The failure to incorporate gamma into the value will also lead to under price the risk reversal."
   ]
  },
  {
   "cell_type": "markdown",
   "metadata": {},
   "source": [
    "### Solution 2"
   ]
  },
  {
   "cell_type": "markdown",
   "metadata": {},
   "source": [
    "#### volatility swap pricing: \n",
    "The dynamic we care about is for the realized volatility of the variance swap fair strike because the underlying asset for vol swap is the val swap fair strike. This is what we use to delta hedge the portfolio.\n",
    "\n",
    "#### OTM knock out pricing:\n",
    "We care about the dynamic for risk reversal beta. \n",
    "\n",
    "This is because we tried to replicate the knock out by longing a call and shorting a put. Once the spot tonch the barrier we need to unwind our replicated portfolio whose main risk comes from the risk reversal. So, we care about how the risk reversal move as the spot move, which is the risk reversal beta.  \n"
   ]
  },
  {
   "cell_type": "markdown",
   "metadata": {},
   "source": [
    "### Solution 3"
   ]
  },
  {
   "cell_type": "markdown",
   "metadata": {},
   "source": [
    "Denote $EURUSD$ as $S_1$ and $GBPUSD$ as $S_2$ in the followings.\n",
    "\n",
    "Assuming the interest rate $r = 0$, so the price of regular digital is the expected payoff at maturity. \n",
    "\n",
    "Also, considering this is a CALL digital option, we have,\n",
    "\n",
    "$$\n",
    "F(K) = 1 - p\n",
    "$$\n",
    "\n",
    "where $F(\\cdot)$ is the risk neutral CDF of spot.\n",
    "\n",
    "To invert it into a standard normal variable $x$, we have,\n",
    "\n",
    "$$\n",
    "x_k = N^{-1}(F(K)) = N^{-1}(1 - p)\n",
    "$$\n",
    "\n",
    "Therefore,\n",
    "\\begin{eqnarray}\n",
    "x_{1k} = N^{-1}(F_1(K_1)) = N^{-1}(1 - p_1) \\\\\n",
    "x_{2k} = N^{-1}(F_2(K_2)) = N^{-1}(1 - p_2)\n",
    "\\end{eqnarray}\n",
    "\n",
    "So, for the dual digital option price under a Gaussian copula model, we have\n",
    "\n",
    "$$\n",
    "v = \\int_{x_1 = x_{1k}}^{+\\infty}\\,\\int_{x_2 = x_{2k}}^{+\\infty}\\,f_{12}\\,dx_1\\,dx_2\n",
    "$$\n",
    "\n",
    "where $f_{12} = \\frac{1}{2\\pi\\,\\sqrt{1 - \\rho^2}}\\,exp(-\\frac{x_1^2 + x_2^2 - 2\\rho x_1 x_2}{2(1 - \\rho^2)})$"
   ]
  },
  {
   "cell_type": "code",
   "execution_count": 3,
   "metadata": {
    "collapsed": true
   },
   "outputs": [],
   "source": [
    "\"\"\"\n",
    "  Copyright: Copyright (C) 2015 Baruch College - FX modeling\n",
    "\n",
    "  Author: Zhenfeng Liang, Zhenfeng.Jose.Liang@gmail.com\n",
    "\n",
    "  Created on: Oct 16, 2015\n",
    "\n",
    "  Description: this is for FX modeling HW6. Plot dual digital price with respect to rho\n",
    "\n",
    "  All Copyrights (C) Reserved\n",
    "\"\"\"\n",
    "\n",
    "%matplotlib inline\n",
    "\n",
    "import scipy as sp\n",
    "from scipy.stats import norm\n",
    "\n",
    "import matplotlib.pyplot as plt\n",
    "import numpy as np\n",
    "\n",
    "from scipy.integrate import dblquad\n",
    "\n",
    "def dualDigiPriceAnalytics(p1, p2):\n",
    "    \n",
    "    x1k = norm.ppf(1 - p1)\n",
    "    x2k = norm.ppf(1 - p2)\n",
    "    \n",
    "    def jointDensity(y, x, rho):\n",
    "        scale = 1 / (2 * sp.pi * sp.sqrt(1 - rho * rho))\n",
    "        expo = sp.exp(-(y ** 2 + x ** 2 - 2 * rho * y * x) / (2 * (1 - rho ** 2)))\n",
    "        return (scale * expo)\n",
    "      \n",
    "    calPrice = lambda rho : dblquad(jointDensity, x2k, sp.inf, lambda x : x1k, lambda x : sp.inf, args=(rho,))[0]\n",
    "\n",
    "    rhoVec = np.linspace(-.99, .99, num=61)\n",
    "\n",
    "    opsPrice = [calPrice(rho) for rho in rhoVec]\n",
    "    \n",
    "    plt.plot(rhoVec, opsPrice)\n",
    "    \n",
    "    plt.title(\"Dual digital option price and correlation rho\")\n",
    "    plt.xlabel(\"Correlation (rho)\")\n",
    "    plt.ylabel(\"Option Price ($)\")\n",
    "    \n",
    "    plt.show()\n",
    "    \n",
    "    return"
   ]
  },
  {
   "cell_type": "code",
   "execution_count": 4,
   "metadata": {
    "collapsed": false
   },
   "outputs": [
    {
     "data": {
      "image/png": "[encoded data removed]",
      "text/plain": [
       "<matplotlib.figure.Figure at 0x7fc51db24390>"
      ]
     },
     "metadata": {},
     "output_type": "display_data"
    }
   ],
   "source": [
    "p1 = .65\n",
    "p2 = .30\n",
    "dualDigiPriceAnalytics(p1, p2)"
   ]
  },
  {
   "cell_type": "markdown",
   "metadata": {},
   "source": [
    "### Comments:\n",
    "\n",
    "From the graph above, we can see rho has positive effect on dual digital option price. This is because this digital option only pays when both $S_1$ and $S_2$ are above the respective strikes. So, if their correlation goes up, the chance they are both ITM will go up. "
   ]
  },
  {
   "cell_type": "markdown",
   "metadata": {},
   "source": [
    "### Solution 4"
   ]
  },
  {
   "cell_type": "markdown",
   "metadata": {},
   "source": [
    "### Comments:\n",
    "\n",
    "1: We see the knock out price is a decreasing function of $\\alpha$ which means this is a strong function of $\\alpha$ because when the vol of vol increase, the probability to knock out increase, the price goes down. From question 2, we see that the knock out price is due to the risk reversal beta. Once $\\alpha$ goes up, the risk reversal beta goes down, which lead to the decrease of the knock out option price. \n",
    "\n",
    "2: The vanilla price is increasing and then decreasing as $\\alpha$ increases which means this is only a weak function of $\\alpha$."
   ]
  }
 ],
 "metadata": {
  "celltoolbar": "Slideshow",
  "kernelspec": {
   "display_name": "Python 2",
   "language": "python",
   "name": "python2"
  },
  "language_info": {
   "codemirror_mode": {
    "name": "ipython",
    "version": 2
   },
   "file_extension": ".py",
   "mimetype": "text/x-python",
   "name": "python",
   "nbconvert_exporter": "python",
   "pygments_lexer": "ipython2",
   "version": "2.7.10"
  }
 },
 "nbformat": 4,
 "nbformat_minor": 0
}
